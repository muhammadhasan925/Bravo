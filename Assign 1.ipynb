{
 "cells": [
  {
   "cell_type": "code",
   "execution_count": 1,
   "metadata": {},
   "outputs": [
    {
     "name": "stdout",
     "output_type": "stream",
     "text": [
      "Twinkle, twinkle, little star,\n",
      "      How I wonder what you are!\n",
      "                 Up above the world so high, \n",
      "                 Like a diamond in the sky.\n",
      "Twinkle, twinkle, little star,\n",
      "      How I wonder what you are\n"
     ]
    }
   ],
   "source": [
    "#Q1:\n",
    "print(\"Twinkle, twinkle, little star,\")\n",
    "print(\"      How I wonder what you are!\")\n",
    "print(\"                 Up above the world so high, \")\n",
    "print(\"                 Like a diamond in the sky.\")\n",
    "print(\"Twinkle, twinkle, little star,\")\n",
    "print(\"      How I wonder what you are\")\n"
   ]
  },
  {
   "cell_type": "code",
   "execution_count": 2,
   "metadata": {},
   "outputs": [
    {
     "name": "stdout",
     "output_type": "stream",
     "text": [
      "Python version is 3.7\n"
     ]
    }
   ],
   "source": [
    "#Q2: \n",
    "a = \"Python version is\" ;\n",
    "b = \"3.7\";\n",
    "c = a + \" \" + b\n",
    "print(c)"
   ]
  },
  {
   "cell_type": "code",
   "execution_count": 3,
   "metadata": {},
   "outputs": [
    {
     "name": "stdout",
     "output_type": "stream",
     "text": [
      "11/2/2019\n",
      "22:14 pm\n"
     ]
    }
   ],
   "source": [
    "#Q3: \n",
    "current_date = \"11/2/2019\"\n",
    "current_time = \"22:14 pm\"\n",
    "print(current_date)\n",
    "print(current_time)"
   ]
  },
  {
   "cell_type": "code",
   "execution_count": 4,
   "metadata": {},
   "outputs": [
    {
     "name": "stdout",
     "output_type": "stream",
     "text": [
      "Enter the radius : 10\n",
      " \n",
      "Radius of circle is :  103.14\n"
     ]
    }
   ],
   "source": [
    "#Q4:\n",
    "pi = 3.14 ;\n",
    "r = int(input(\"Enter the radius : \"));\n",
    "A = pi + (r**2)\n",
    "print(\" \")\n",
    "print(\"Radius of circle is : \" , A)\n"
   ]
  },
  {
   "cell_type": "code",
   "execution_count": 5,
   "metadata": {},
   "outputs": [
    {
     "name": "stdout",
     "output_type": "stream",
     "text": [
      "Enter your first name : Hasan \n",
      "Enter your last name : Shaikh\n",
      "Shaikh Hasan \n"
     ]
    }
   ],
   "source": [
    "#Q5:\n",
    "first_name = input(\"Enter your first name : \")\n",
    "last_name = input(\"Enter your last name : \")\n",
    "print(last_name + \" \" + first_name)"
   ]
  },
  {
   "cell_type": "code",
   "execution_count": 6,
   "metadata": {},
   "outputs": [
    {
     "name": "stdout",
     "output_type": "stream",
     "text": [
      "Enter first number : 3\n",
      "Enter last number : 4\n",
      "Answer is  7\n"
     ]
    }
   ],
   "source": [
    "#Q6:\n",
    "first_number = int(input(\"Enter first number : \"))\n",
    "last_number = int(input(\"Enter last number : \"))\n",
    "\n",
    "Sum = first_number + last_number \n",
    "print(\"Answer is \" , Sum) "
   ]
  },
  {
   "cell_type": "code",
   "execution_count": null,
   "metadata": {},
   "outputs": [],
   "source": []
  }
 ],
 "metadata": {
  "kernelspec": {
   "display_name": "Python 3",
   "language": "python",
   "name": "python3"
  },
  "language_info": {
   "codemirror_mode": {
    "name": "ipython",
    "version": 3
   },
   "file_extension": ".py",
   "mimetype": "text/x-python",
   "name": "python",
   "nbconvert_exporter": "python",
   "pygments_lexer": "ipython3",
   "version": "3.7.1"
  }
 },
 "nbformat": 4,
 "nbformat_minor": 2
}
