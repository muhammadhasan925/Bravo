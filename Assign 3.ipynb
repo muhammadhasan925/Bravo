{
 "cells": [
  {
   "cell_type": "code",
   "execution_count": 7,
   "metadata": {},
   "outputs": [
    {
     "name": "stdout",
     "output_type": "stream",
     "text": [
      "Enter first value: 22\n",
      "Enter second value: 31\n",
      "\n",
      "Enter 1 to do addition :\n",
      "Enter 2 to do subtraction :\n",
      "Enter 3 to do multiplication :\n",
      "Enter 4 to do division :\n",
      "Enter 5 to do power: \n",
      "Enter your choice: 3\n",
      "\n",
      "Answer : 682\n"
     ]
    }
   ],
   "source": [
    "#Q1:\n",
    "ans = None\n",
    "num1 = int(input(\"Enter first value: \"))\n",
    "num2 = int(input(\"Enter second value: \"))\n",
    "\n",
    "print(\"\\nEnter 1 to do addition :\")\n",
    "print(\"Enter 2 to do subtraction :\")\n",
    "print(\"Enter 3 to do multiplication :\")\n",
    "print(\"Enter 4 to do division :\")\n",
    "print(\"Enter 5 to do power: \")\n",
    "choice = int(input(\"Enter your choice: \"))\n",
    "\n",
    "if choice == 1:\n",
    "    ans = num1+num2\n",
    "elif choice == 2:\n",
    "    ans = num1-num2\n",
    "elif choice == 3:\n",
    "    ans = num1*num2\n",
    "elif choice == 4:\n",
    "    ans = num1/num2\n",
    "elif choice == 5:\n",
    "    ans = num1**num2\n",
    "    \n",
    "print(f\"\\nAnswer : {ans}\")"
   ]
  },
  {
   "cell_type": "code",
   "execution_count": 8,
   "metadata": {},
   "outputs": [
    {
     "name": "stdout",
     "output_type": "stream",
     "text": [
      "Numeric value found : 5\n"
     ]
    }
   ],
   "source": [
    "#Q2:\n",
    "the_list = [\"disha patani\",  \"3\", 5,\"Hello\"]\n",
    "for value in the_list:\n",
    "    if type(value) == int or type(value) == float:\n",
    "        print(f\"Numeric value found : {value}\")\n",
    "        break"
   ]
  },
  {
   "cell_type": "code",
   "execution_count": 9,
   "metadata": {},
   "outputs": [
    {
     "name": "stdout",
     "output_type": "stream",
     "text": [
      "Key added\n"
     ]
    }
   ],
   "source": [
    "#Q3:\n",
    "dic = {}\n",
    "dic[1] = \"Key added\"\n",
    "\n",
    "print(dic[1])"
   ]
  },
  {
   "cell_type": "code",
   "execution_count": 10,
   "metadata": {},
   "outputs": [
    {
     "name": "stdout",
     "output_type": "stream",
     "text": [
      "Sum = 106.4\n"
     ]
    }
   ],
   "source": [
    "#Q4:\n",
    "result = 0\n",
    "dic = {1: 2 ,\n",
    "           2: \"katrina\", \n",
    "           3: 4.4, \n",
    "           4:\"Not numerical\",\n",
    "           5: 100}\n",
    "\n",
    "for value in dic.values():\n",
    "    if type(value) == int or type(value) == float:\n",
    "        result = result + value        \n",
    "        \n",
    "print(f\"Sum = {result}\")"
   ]
  },
  {
   "cell_type": "code",
   "execution_count": 11,
   "metadata": {},
   "outputs": [
    {
     "name": "stdout",
     "output_type": "stream",
     "text": [
      "Duplicated 4\n",
      "Duplicated 2\n",
      "Duplicated 4\n",
      "Duplicated 4\n",
      "Duplicated 2\n"
     ]
    }
   ],
   "source": [
    "#Q5:\n",
    "the_list = [\"maya ali\", \"gal gadot\", 4, 2, 0.4, 1.3, 4, 3, 4, 2, 8]\n",
    "for value in the_list:\n",
    "    if  the_list.count(value) > 1:\n",
    "        print(f\"Duplicated {value}\")"
   ]
  },
  {
   "cell_type": "code",
   "execution_count": 15,
   "metadata": {},
   "outputs": [
    {
     "name": "stdout",
     "output_type": "stream",
     "text": [
      "1 Already exists\n"
     ]
    }
   ],
   "source": [
    "#Q6:\n",
    "dic = { 1: \"key1\",\n",
    "            2: \"key2\",\n",
    "            3: \"key3\"}\n",
    "\n",
    "given_key = 1\n",
    "\n",
    "for key in dic.keys():\n",
    "    if key == given_key:\n",
    "        print(f\"{given_key} Already exists\")"
   ]
  },
  {
   "cell_type": "code",
   "execution_count": null,
   "metadata": {},
   "outputs": [],
   "source": []
  }
 ],
 "metadata": {
  "kernelspec": {
   "display_name": "Python 3",
   "language": "python",
   "name": "python3"
  },
  "language_info": {
   "codemirror_mode": {
    "name": "ipython",
    "version": 3
   },
   "file_extension": ".py",
   "mimetype": "text/x-python",
   "name": "python",
   "nbconvert_exporter": "python",
   "pygments_lexer": "ipython3",
   "version": "3.7.1"
  }
 },
 "nbformat": 4,
 "nbformat_minor": 2
}
